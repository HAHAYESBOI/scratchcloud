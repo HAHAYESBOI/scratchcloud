{
  "nbformat": 4,
  "nbformat_minor": 0,
  "metadata": {
    "colab": {
      "name": "Scratchcloud.ipynb",
      "provenance": [],
      "collapsed_sections": [],
      "authorship_tag": "ABX9TyOSE8Y/Ym6CS9hDc2QyYlvM"
    },
    "kernelspec": {
      "name": "python3",
      "display_name": "Python 3"
    },
    "language_info": {
      "name": "python"
    }
  },
  "cells": [
    {
      "cell_type": "markdown",
      "source": [
        "To start the hack, click the play button on each of the code cells. (in Colab) (Top to bottom in order). Then add the info to the inputs it asks for."
      ],
      "metadata": {
        "id": "x1asHLrsX0UH"
      }
    },
    {
      "cell_type": "code",
      "source": [
        "!pip install scratchclient\n",
        "from google.colab import output\n",
        "output.clear()"
      ],
      "metadata": {
        "id": "887av-KO7ZXm"
      },
      "execution_count": null,
      "outputs": []
    },
    {
      "cell_type": "markdown",
      "source": [
        "Run the above script 1st or it will not work."
      ],
      "metadata": {
        "id": "H2WiRFE97cpr"
      }
    },
    {
      "cell_type": "code",
      "source": [
        "#v1.0.0\n",
        "import scratchclient as scratch\n",
        "import time\n",
        "from google.colab import output\n",
        "\n",
        "#If you are not comfortable entering your username and password, make an alt account with the same email and different password (I get it)\n",
        "print(\"Username? (Case sensitive)\")\n",
        "name = input()\n",
        "print(\"Password?\")\n",
        "pword = input()\n",
        "print(\"Project Id?\")\n",
        "id = input()\n",
        "print(\"Name of variable?\")\n",
        "var = input()\n",
        "print(\"Value?\")\n",
        "val = input()\n",
        "\n",
        "session = scratch.ScratchSession(name, pword)\n",
        "\n",
        "\n",
        "connection = session.create_cloud_connection(id)\n",
        "time.sleep(3)\n",
        "\n",
        "connection.set_cloud_variable(var, val)\n",
        "time.sleep(3)\n",
        "\n",
        "valN = connection.get_cloud_variable(var)\n",
        "\n",
        "if valN == val:\n",
        "  print(\"Success\")\n",
        "else:\n",
        "  print(\"Failed. Make sure you put in the correct variable (case sensitive)\")\n",
        "output.clear()\n",
        "print(\"Input cleared for privacy.\")"
      ],
      "metadata": {
        "id": "4m1UaMbH64pw"
      },
      "execution_count": null,
      "outputs": []
    }
  ]
}

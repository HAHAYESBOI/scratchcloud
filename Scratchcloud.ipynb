{
  "nbformat": 4,
  "nbformat_minor": 0,
  "metadata": {
    "colab": {
      "name": "Scratchcloud.ipynb",
      "provenance": [],
      "collapsed_sections": [],
      "authorship_tag": "ABX9TyNn5WMPZ/DksZu0WJKDaAMZ",
      "include_colab_link": true
    },
    "kernelspec": {
      "name": "python3",
      "display_name": "Python 3"
    },
    "language_info": {
      "name": "python"
    }
  },
  "cells": [
    {
      "cell_type": "markdown",
      "metadata": {
        "id": "view-in-github",
        "colab_type": "text"
      },
      "source": [
        "<a href=\"https://colab.research.google.com/github/thegamebegins25/scratchcloud/blob/main/Scratchcloud.ipynb\" target=\"_parent\"><img src=\"https://colab.research.google.com/assets/colab-badge.svg\" alt=\"Open In Colab\"/></a>"
      ]
    },
    {
      "cell_type": "markdown",
      "source": [
        "To start the hack, click the play button on each of the code cells. (Top to bottom in order). Then add the info to the inputs it asks for."
      ],
      "metadata": {
        "id": "x1asHLrsX0UH"
      }
    },
    {
      "cell_type": "code",
      "source": [
        "!pip install scratchclient"
      ],
      "metadata": {
        "id": "887av-KO7ZXm",
        "colab": {
          "base_uri": "https://localhost:8080/"
        },
        "outputId": "4a134324-0556-4096-9c1a-556f9a6de1b0"
      },
      "execution_count": 1,
      "outputs": [
        {
          "output_type": "stream",
          "name": "stdout",
          "text": [
            "Collecting scratchclient\n",
            "  Downloading scratchclient-0.5.2.tar.gz (9.7 kB)\n",
            "Requirement already satisfied: requests in /usr/local/lib/python3.7/dist-packages (from scratchclient) (2.23.0)\n",
            "Collecting websocket-client\n",
            "  Downloading websocket_client-1.2.3-py3-none-any.whl (53 kB)\n",
            "\u001b[K     |████████████████████████████████| 53 kB 409 kB/s \n",
            "\u001b[?25hCollecting pymitter\n",
            "  Downloading pymitter-0.3.1.tar.gz (6.2 kB)\n",
            "Requirement already satisfied: chardet<4,>=3.0.2 in /usr/local/lib/python3.7/dist-packages (from requests->scratchclient) (3.0.4)\n",
            "Requirement already satisfied: urllib3!=1.25.0,!=1.25.1,<1.26,>=1.21.1 in /usr/local/lib/python3.7/dist-packages (from requests->scratchclient) (1.24.3)\n",
            "Requirement already satisfied: idna<3,>=2.5 in /usr/local/lib/python3.7/dist-packages (from requests->scratchclient) (2.10)\n",
            "Requirement already satisfied: certifi>=2017.4.17 in /usr/local/lib/python3.7/dist-packages (from requests->scratchclient) (2021.10.8)\n",
            "Building wheels for collected packages: scratchclient, pymitter\n",
            "  Building wheel for scratchclient (setup.py) ... \u001b[?25l\u001b[?25hdone\n",
            "  Created wheel for scratchclient: filename=scratchclient-0.5.2-py3-none-any.whl size=12780 sha256=ea209a717ecb90b6b1e033555de0e9ad2d5b2687b02cdad2abbda955c13cc906\n",
            "  Stored in directory: /root/.cache/pip/wheels/08/6a/a4/1431fb9489c5647688362af7a693b0e46aa5a85614b256e8ea\n",
            "  Building wheel for pymitter (setup.py) ... \u001b[?25l\u001b[?25hdone\n",
            "  Created wheel for pymitter: filename=pymitter-0.3.1-py3-none-any.whl size=5899 sha256=c7db7b597ebea252de5b1bb2cba223ce76e58502543614ee7d77664554794cc0\n",
            "  Stored in directory: /root/.cache/pip/wheels/a4/c3/9f/c58a390ac9644b90664913893295dcd30d7b39850010d6e57a\n",
            "Successfully built scratchclient pymitter\n",
            "Installing collected packages: websocket-client, pymitter, scratchclient\n",
            "Successfully installed pymitter-0.3.1 scratchclient-0.5.2 websocket-client-1.2.3\n"
          ]
        }
      ]
    },
    {
      "cell_type": "markdown",
      "source": [
        "Run the above script 1st or it will not work."
      ],
      "metadata": {
        "id": "H2WiRFE97cpr"
      }
    },
    {
      "cell_type": "code",
      "source": [
        "#v1.0.0\n",
        "import scratchclient as scratch\n",
        "import time\n",
        "from google.colab import output\n",
        "\n",
        "#If you are not comfortable entering your username and password, make an alt account with the same email and different password (I get it)\n",
        "print(\"Username? (Case sensitive)\")\n",
        "name = input()\n",
        "print(\"Password?\")\n",
        "pword = input()\n",
        "print(\"Project Id?\")\n",
        "id = input()\n",
        "print(\"Name of variable?\")\n",
        "var = input()\n",
        "print(\"Value?\")\n",
        "val = input()\n",
        "\n",
        "session = scratch.ScratchSession(name, pword)\n",
        "\n",
        "\n",
        "connection = session.create_cloud_connection(id)\n",
        "time.sleep(3)\n",
        "\n",
        "connection.set_cloud_variable(var, val)\n",
        "time.sleep(3)\n",
        "\n",
        "valN = connection.get_cloud_variable(var)\n",
        "\n",
        "if valN == val:\n",
        "  print(\"Success\")\n",
        "else:\n",
        "  print(\"Failed. Make sure you put in the correct variable (case sensitive)\")\n",
        "output.clear()\n",
        "print(\"Input cleared for privacy.\")"
      ],
      "metadata": {
        "id": "4m1UaMbH64pw",
        "colab": {
          "base_uri": "https://localhost:8080/",
          "height": 609
        },
        "outputId": "1653e435-e72f-40fc-f603-d43248d63bf7"
      },
      "execution_count": 3,
      "outputs": [
        {
          "name": "stdout",
          "output_type": "stream",
          "text": [
            "Username? (Case sensitive)\n",
            "wdp09CloudServer\n",
            "Password?\n",
            "CloudServer\n",
            "Project Id?\n",
            "629930858\n",
            "Name of variable?\n",
            "Highscore\n",
            "Value?\n",
            "9999999999999999999999999999999999999999999\n"
          ]
        },
        {
          "output_type": "error",
          "ename": "ValueError",
          "evalue": "ignored",
          "traceback": [
            "\u001b[0;31m---------------------------------------------------------------------------\u001b[0m",
            "\u001b[0;31mStopIteration\u001b[0m                             Traceback (most recent call last)",
            "\u001b[0;32m/usr/local/lib/python3.7/dist-packages/scratchclient/CloudConnection.py\u001b[0m in \u001b[0;36mget_cloud_variable\u001b[0;34m(self, name)\u001b[0m\n\u001b[1;32m    123\u001b[0m                 \u001b[0mx\u001b[0m\u001b[0;34m\u001b[0m\u001b[0;34m\u001b[0m\u001b[0m\n\u001b[0;32m--> 124\u001b[0;31m                 \u001b[0;32mfor\u001b[0m \u001b[0mx\u001b[0m \u001b[0;32min\u001b[0m \u001b[0mself\u001b[0m\u001b[0;34m.\u001b[0m\u001b[0m_cloudvariables\u001b[0m\u001b[0;34m\u001b[0m\u001b[0;34m\u001b[0m\u001b[0m\n\u001b[0m\u001b[1;32m    125\u001b[0m                 \u001b[0;32mif\u001b[0m \u001b[0mx\u001b[0m\u001b[0;34m.\u001b[0m\u001b[0mname\u001b[0m \u001b[0;34m==\u001b[0m \u001b[0;34m(\u001b[0m\u001b[0;34m\"☁ \"\u001b[0m \u001b[0;34m+\u001b[0m \u001b[0mname\u001b[0m \u001b[0;32mif\u001b[0m \u001b[0;32mnot\u001b[0m \u001b[0mname\u001b[0m\u001b[0;34m.\u001b[0m\u001b[0mstartswith\u001b[0m\u001b[0;34m(\u001b[0m\u001b[0;34m\"☁ \"\u001b[0m\u001b[0;34m)\u001b[0m \u001b[0;32melse\u001b[0m \u001b[0mname\u001b[0m\u001b[0;34m)\u001b[0m\u001b[0;34m\u001b[0m\u001b[0;34m\u001b[0m\u001b[0m\n",
            "\u001b[0;31mStopIteration\u001b[0m: ",
            "\nDuring handling of the above exception, another exception occurred:\n",
            "\u001b[0;31mValueError\u001b[0m                                Traceback (most recent call last)",
            "\u001b[0;32m<ipython-input-3-6d65b854dc65>\u001b[0m in \u001b[0;36m<module>\u001b[0;34m()\u001b[0m\n\u001b[1;32m     24\u001b[0m \u001b[0mconnection\u001b[0m\u001b[0;34m.\u001b[0m\u001b[0mset_cloud_variable\u001b[0m\u001b[0;34m(\u001b[0m\u001b[0mvar\u001b[0m\u001b[0;34m,\u001b[0m \u001b[0mval\u001b[0m\u001b[0;34m)\u001b[0m\u001b[0;34m\u001b[0m\u001b[0;34m\u001b[0m\u001b[0m\n\u001b[1;32m     25\u001b[0m \u001b[0mtime\u001b[0m\u001b[0;34m.\u001b[0m\u001b[0msleep\u001b[0m\u001b[0;34m(\u001b[0m\u001b[0;36m3\u001b[0m\u001b[0;34m)\u001b[0m\u001b[0;34m\u001b[0m\u001b[0;34m\u001b[0m\u001b[0m\n\u001b[0;32m---> 26\u001b[0;31m \u001b[0mvalN\u001b[0m \u001b[0;34m=\u001b[0m \u001b[0mconnection\u001b[0m\u001b[0;34m.\u001b[0m\u001b[0mget_cloud_variable\u001b[0m\u001b[0;34m(\u001b[0m\u001b[0mvar\u001b[0m\u001b[0;34m)\u001b[0m\u001b[0;34m\u001b[0m\u001b[0;34m\u001b[0m\u001b[0m\n\u001b[0m\u001b[1;32m     27\u001b[0m \u001b[0;32mif\u001b[0m \u001b[0mvalN\u001b[0m \u001b[0;34m==\u001b[0m \u001b[0mval\u001b[0m\u001b[0;34m:\u001b[0m\u001b[0;34m\u001b[0m\u001b[0;34m\u001b[0m\u001b[0m\n\u001b[1;32m     28\u001b[0m   \u001b[0mprint\u001b[0m\u001b[0;34m(\u001b[0m\u001b[0;34m\"Success\"\u001b[0m\u001b[0;34m)\u001b[0m\u001b[0;34m\u001b[0m\u001b[0;34m\u001b[0m\u001b[0m\n",
            "\u001b[0;32m/usr/local/lib/python3.7/dist-packages/scratchclient/CloudConnection.py\u001b[0m in \u001b[0;36mget_cloud_variable\u001b[0;34m(self, name)\u001b[0m\n\u001b[1;32m    130\u001b[0m                 \u001b[0;34m\"Variable '\"\u001b[0m\u001b[0;34m\u001b[0m\u001b[0;34m\u001b[0m\u001b[0m\n\u001b[1;32m    131\u001b[0m                 \u001b[0;34m+\u001b[0m \u001b[0;34m(\u001b[0m\u001b[0;34m\"☁ \"\u001b[0m \u001b[0;34m+\u001b[0m \u001b[0mname\u001b[0m \u001b[0;32mif\u001b[0m \u001b[0;32mnot\u001b[0m \u001b[0mname\u001b[0m\u001b[0;34m.\u001b[0m\u001b[0mstartswith\u001b[0m\u001b[0;34m(\u001b[0m\u001b[0;34m\"☁ \"\u001b[0m\u001b[0;34m)\u001b[0m \u001b[0;32melse\u001b[0m \u001b[0mname\u001b[0m\u001b[0;34m)\u001b[0m\u001b[0;34m\u001b[0m\u001b[0;34m\u001b[0m\u001b[0m\n\u001b[0;32m--> 132\u001b[0;31m                 \u001b[0;34m+\u001b[0m \u001b[0;34m\"' is not in this project\"\u001b[0m\u001b[0;34m\u001b[0m\u001b[0;34m\u001b[0m\u001b[0m\n\u001b[0m\u001b[1;32m    133\u001b[0m             )\n",
            "\u001b[0;31mValueError\u001b[0m: Variable '☁ Highscore' is not in this project"
          ]
        }
      ]
    },
    {
      "cell_type": "code",
      "source": [
        ""
      ],
      "metadata": {
        "id": "__3X0CiTbTNO"
      },
      "execution_count": null,
      "outputs": []
    }
  ]
}